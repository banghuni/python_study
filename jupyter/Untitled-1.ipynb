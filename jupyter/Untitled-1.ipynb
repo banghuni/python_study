{
 "cells": [
  {
   "cell_type": "code",
   "execution_count": 16,
   "id": "45a9cc3e",
   "metadata": {},
   "outputs": [
    {
     "name": "stdout",
     "output_type": "stream",
     "text": [
      " 2  4  6  8  10  12  14  16  18  20  22  24  26  28  30  32  34  36  38  40  42  44  46  48  50 "
     ]
    }
   ],
   "source": [
    "#3-1 2부터 50까지의 모든 짝수를 공백으로 구분하여 한 줄에 출력\n",
    "for x in range(2,51,1):\n",
    "    if x % 2 == 0:\n",
    "        print(end=' ')\n",
    "        print(x, end=' ')"
   ]
  },
  {
   "cell_type": "code",
   "execution_count": 13,
   "id": "cc09b7f8",
   "metadata": {},
   "outputs": [
    {
     "name": "stdout",
     "output_type": "stream",
     "text": [
      "2 4 6 8 10 12 14 16 18 20 22 24 26 28 30 32 34 36 38 40 42 44 46 48 50 "
     ]
    }
   ],
   "source": [
    "for x in range(2, 51, 2):\n",
    "    print(x, end=' ')"
   ]
  },
  {
   "cell_type": "code",
   "execution_count": null,
   "id": "c828410d",
   "metadata": {},
   "outputs": [
    {
     "name": "stdout",
     "output_type": "stream",
     "text": [
      "리스트에 저장된 정수들의 합 364\n"
     ]
    }
   ],
   "source": [
    "#3-2 다음리스트에 저장된 정수들의 합을 계산하는 프로그램, sum() 사용하지 말고 my list =[11,22,23,99,81,93,35]\n",
    "my_list = [11,22,23,99,81,93,35]#다른방법 일일이 뽑아내기도 가능 ex int(mylist[0] + mylist[1]------) \n",
    "total = 0\n",
    "for x in my_list: # for x in (순차적 데이터)\n",
    "    total += x\n",
    "\n",
    "print(\"리스트에 저장된 정수들의 합\", total)\n",
    "\n"
   ]
  },
  {
   "cell_type": "code",
   "execution_count": 15,
   "id": "fce6352b",
   "metadata": {},
   "outputs": [
    {
     "name": "stdout",
     "output_type": "stream",
     "text": [
      "1부터 100까지 3의 배수의 합 1683\n"
     ]
    }
   ],
   "source": [
    "#1~100사이 3의 배수의합을 더함\n",
    "total = 0\n",
    "for x in range(1,101):\n",
    "    if x % 3 == 0:\n",
    "       total += x \n",
    "\n",
    "print(\"1부터 100까지 3의 배수의 합\", total)"
   ]
  },
  {
   "cell_type": "code",
   "execution_count": 6,
   "id": "737564db",
   "metadata": {},
   "outputs": [
    {
     "name": "stdout",
     "output_type": "stream",
     "text": [
      "1 2 3 4 6 12 "
     ]
    }
   ],
   "source": [
    "# 3-4 정수의 약수를 구하고 출력\n",
    "x = int(input(\"정수를 입력하시오:\"))\n",
    "for y in range(1, x + 1):\n",
    "    if x % y == 0:\n",
    "        print(y, end=' ')"
   ]
  },
  {
   "cell_type": "code",
   "execution_count": 13,
   "id": "f76b1505",
   "metadata": {},
   "outputs": [
    {
     "name": "stdout",
     "output_type": "stream",
     "text": [
      "* \n",
      "* * \n",
      "* * * \n",
      "* * * * \n",
      "* * * * * \n"
     ]
    }
   ],
   "source": [
    "#3-5 중첩 반복문을 이용하여 입력된 정수만큼 *을  순차적으로 출력\n",
    "x = int(input(\"정수를 압력하시오\"))\n",
    "for y in range(1, x + 1):\n",
    "    for z in range(1, y + 1):\n",
    "        print(\"*\", end=' ')\n",
    "    print()"
   ]
  },
  {
   "cell_type": "code",
   "execution_count": 23,
   "id": "b1e8e772",
   "metadata": {},
   "outputs": [
    {
     "name": "stdout",
     "output_type": "stream",
     "text": [
      "23\n"
     ]
    }
   ],
   "source": [
    "x = 1\n",
    "while True:\n",
    "    if (x ** 2) >= 500:\n",
    "        print(x)\n",
    "        break\n",
    "    x += 1"
   ]
  },
  {
   "cell_type": "code",
   "execution_count": null,
   "id": "f29af1dd",
   "metadata": {},
   "outputs": [
    {
     "name": "stdout",
     "output_type": "stream",
     "text": [
      "23\n"
     ]
    }
   ],
   "source": [
    "while n<500:\n",
    "    # if(n**2)>500\n",
    "    if pow(n,2)>500:# pow == n의값을 제곱 하겠다.\n",
    "        print(n)\n",
    "        break\n",
    "    n+= 1\n"
   ]
  },
  {
   "cell_type": "code",
   "execution_count": 16,
   "id": "2b03aa98",
   "metadata": {},
   "outputs": [
    {
     "name": "stdout",
     "output_type": "stream",
     "text": [
      "합계: 385\n"
     ]
    }
   ],
   "source": [
    "#3-10 1**+2**+3**+...+n**의 합을 구하는 프로그램\n",
    "n = int(input(\"정수\"))\n",
    "total = 0\n",
    "for x in range(1, n + 1):\n",
    "    total += x ** 2\n",
    "print(\"합계:\",total)"
   ]
  },
  {
   "cell_type": "code",
   "execution_count": 12,
   "id": "15b62056",
   "metadata": {},
   "outputs": [
    {
     "name": "stdout",
     "output_type": "stream",
     "text": [
      "최대 공약수: 1\n"
     ]
    }
   ],
   "source": [
    "#3-11 두개의 정수 a,b를 입력받아 두 정수의 최대 공약수를 찾아라\n",
    "a = int(input(\"첫번째 정수\"))\n",
    "b = int(input(\"두번째 정수\"))\n",
    "\n",
    "gcd = 1 \n",
    "\n",
    "for x in range(1, min(a, b) +1):\n",
    "    if a % x == 0 and b % x == 0:\n",
    "        gcd = x\n",
    "        \n",
    "print(\"최대 공약수:\",gcd)\n"
   ]
  },
  {
   "cell_type": "code",
   "execution_count": null,
   "id": "6cb703d4",
   "metadata": {},
   "outputs": [
    {
     "name": "stdout",
     "output_type": "stream",
     "text": [
      "22 와 42 의 최대 공약수는 2 입니다\n"
     ]
    }
   ],
   "source": [
    "#3-11 두개정수 2type\n",
    "a = int(input(\"첫 번쨰 정수:\"))\n",
    "b = int(input(\"두 번째 정수:\"))\n",
    "common=0\n",
    "max=a # 최대 공약수 구하기 \n",
    "if a<b:\n",
    "    max=b # 두 수중 큰 수를 max값에 넣는다\n",
    "\n",
    "for i in range(1,max):\n",
    "    if a%i==0 and b%i==0: # and 논리 연산자 (두개다 만족) or = 둘중에 하나 만족\n",
    "        common=i\n",
    "print(a,\"와\",b,\"의 최대 공약수는\",common,\"입니다\")"
   ]
  },
  {
   "cell_type": "code",
   "execution_count": 29,
   "id": "69b45faf",
   "metadata": {},
   "outputs": [
    {
     "name": "stdout",
     "output_type": "stream",
     "text": [
      "0,1,1,2,3,5,8\n"
     ]
    }
   ],
   "source": [
    "#피보나치\n",
    "num=int(input(\"몇 번째 항까지 구할까요?:\"))\n",
    "element1=0\n",
    "element2=0\n",
    "\n",
    "for i in range(num+1):\n",
    "    if i<2:\n",
    "        element2=element1\n",
    "        element1=i\n",
    "        sum=element1+element2\n",
    "    else:\n",
    "        sum=element1+element2\n",
    "        element2=element1\n",
    "        element1=sum\n",
    "    \n",
    "    if i!=num:\n",
    "        print(sum,end=\",\")\n",
    "    else:\n",
    "        print(sum)"
   ]
  },
  {
   "cell_type": "code",
   "execution_count": 33,
   "id": "d4fec5c3",
   "metadata": {},
   "outputs": [
    {
     "name": "stdout",
     "output_type": "stream",
     "text": [
      "2 3 5 7 11 13 17 19 "
     ]
    }
   ],
   "source": [
    "#2와20사이에 있는 모든 소수를 찾는 프로그램\n",
    "maxNum=20\n",
    "number=2\n",
    "count=0\n",
    "\n",
    "while number<maxNum:\n",
    "    divisor=2\n",
    "    prime=True\n",
    "\n",
    "    while divisor<number:  #while문 안에 while문 위험! \n",
    "        if number%divisor==0:\n",
    "            prime=False\n",
    "            break\n",
    "        divisor+=1\n",
    "    if prime:\n",
    "        count+=1\n",
    "        print(number,end=\" \")\n",
    "    number+=1\n",
    "\n",
    "#while문 -> for \n"
   ]
  },
  {
   "cell_type": "code",
   "execution_count": 34,
   "id": "efb2505f",
   "metadata": {},
   "outputs": [
    {
     "name": "stdout",
     "output_type": "stream",
     "text": [
      "2 3 5 7 11 13 17 19 "
     ]
    }
   ],
   "source": [
    "maxNum=20\n",
    "number=2\n",
    "count = 0\n",
    "\n",
    "for i in range(2,maxNum):\n",
    "    divisor=2\n",
    "    prime=True\n",
    "\n",
    "    for divisor in range(2, number):\n",
    "        if number%divisor==0:\n",
    "            prime=False\n",
    "            break\n",
    "    if prime:\n",
    "        count+=1\n",
    "        print(number,end=\" \")\n",
    "    number+=1"
   ]
  },
  {
   "cell_type": "code",
   "execution_count": 35,
   "id": "2b098547",
   "metadata": {},
   "outputs": [
    {
     "ename": "SyntaxError",
     "evalue": "invalid syntax (1965988964.py, line 3)",
     "output_type": "error",
     "traceback": [
      "  \u001b[36mCell\u001b[39m\u001b[36m \u001b[39m\u001b[32mIn[35]\u001b[39m\u001b[32m, line 3\u001b[39m\n\u001b[31m    \u001b[39m\u001b[31msum+=\u001b[39m\n         ^\n\u001b[31mSyntaxError\u001b[39m\u001b[31m:\u001b[39m invalid syntax\n"
     ]
    }
   ],
   "source": [
    "sum=0\n",
    "for i in range(1,100,2):\n",
    "    sum+="
   ]
  },
  {
   "cell_type": "code",
   "execution_count": 37,
   "id": "580706a0",
   "metadata": {},
   "outputs": [
    {
     "name": "stdout",
     "output_type": "stream",
     "text": [
      "fizzbuzz\n",
      ",\n",
      ",\n",
      "fizz\n",
      ",\n",
      "buzz\n",
      "fizz\n",
      ",\n",
      ",\n",
      "fizz\n"
     ]
    }
   ],
   "source": [
    "for i in range(0,10):\n",
    "    if i%3==0 and i%5==0:\n",
    "        print(\"fizzbuzz\")\n",
    "    elif i%5==0:\n",
    "        print(\"buzz\")\n",
    "    elif i%3==0:\n",
    "        print(\"fizz\")\n",
    "    else:\n",
    "        print(\",\")"
   ]
  }
 ],
 "metadata": {
  "kernelspec": {
   "display_name": "Python 3",
   "language": "python",
   "name": "python3"
  },
  "language_info": {
   "codemirror_mode": {
    "name": "ipython",
    "version": 3
   },
   "file_extension": ".py",
   "mimetype": "text/x-python",
   "name": "python",
   "nbconvert_exporter": "python",
   "pygments_lexer": "ipython3",
   "version": "3.13.5"
  }
 },
 "nbformat": 4,
 "nbformat_minor": 5
}
