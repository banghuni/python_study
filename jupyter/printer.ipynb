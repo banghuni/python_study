{
 "cells": [
  {
   "cell_type": "code",
   "execution_count": 8,
   "id": "291d3e69",
   "metadata": {},
   "outputs": [
    {
     "name": "stdout",
     "output_type": "stream",
     "text": [
      "unknown shape\n"
     ]
    }
   ],
   "source": [
    "a = (input(\"문자를 입력하십시오\"))\n",
    "\n",
    "if a == 'r' or a == 'R':\n",
    "    print(\"rectangle\")\n",
    "elif a == 'c' or a == 'c':\n",
    "    print(\"circle\")\n",
    "elif a == 't' or a == 't':\n",
    "    print(\"triangle\")\n",
    "else:\n",
    "    print(\"unknown shape\")"
   ]
  },
  {
   "cell_type": "code",
   "execution_count": 24,
   "id": "aaa788d2",
   "metadata": {},
   "outputs": [
    {
     "name": "stdout",
     "output_type": "stream",
     "text": [
      "원의 넓이는78.53981633974483입니다\n"
     ]
    }
   ],
   "source": [
    "#예제 2-4번 원의 넓이를 구하는 프로그램을 만들고 사용자가 입력한 원의 반지름으로 계산해서 출력음수 입력의 경우 \"잘못된 값입니다\"\n",
    "#파이썬에서 원의 넓이를 구하는 공식은 다음과 같습니다.\n",
    "# 원의 넓이 = math.pi * (반지름 ** 2)\n",
    "import math\n",
    "radius = float(input(\"원의 반지름을 입력하십시오:\"))\n",
    "if radius < 0:\n",
    "    print(\"잘못된 값입니다\")\n",
    "else:\n",
    "    area = math.pi * (radius ** 2)\n",
    "    print(f\"원의 넓이는{area}입니다\")"
   ]
  },
  {
   "cell_type": "code",
   "execution_count": 83,
   "id": "f966647e",
   "metadata": {},
   "outputs": [
    {
     "name": "stdout",
     "output_type": "stream",
     "text": [
      "가장 작은 값은 1입니다\n"
     ]
    }
   ],
   "source": [
    "# 사용자로부터 3개의 정수를 입력받고 if-else문을 사용하여 가장 작은 값을 출력\n",
    "a = int(input(\"첫 번째 정수를 입력하십시오\"))\n",
    "b = int(input(\"두 번째 정수를 입력하십시오\"))\n",
    "c = int(input(\"세 번째 정수를 입력하십시오\"))\n",
    "if a < b and a < c:\n",
    "    print(f\"가장 작은 값은 {a}입니다\")\n",
    "if b < a and b < c:\n",
    "    print(f\"가장 작은 값은 {b}입니다\")\n",
    "if c < a and c < b:\n",
    "    print(f\"가장 작은 값은 {c}입니다\")"
   ]
  },
  {
   "cell_type": "code",
   "execution_count": 90,
   "id": "2c765511",
   "metadata": {},
   "outputs": [
    {
     "name": "stdout",
     "output_type": "stream",
     "text": [
      "컴퓨터의 선택(1:가위 2:바위 3:보)\n",
      "이김\n"
     ]
    }
   ],
   "source": [
    "#예제 2-6 컴퓨터 가위 바위 보 게임을 하는 프로그램 컴퓨터는 사용자에게 알리지 않고 가위,바위,보 중에서 임의로 하나를 선택. 사용자는 입력 메시지에 따라서 3개중 하나를 선택. \"이겻음\",\"비겼음\",\"졌음\" 을 축력(if-else와 random.randiant를 사용)\n",
    "import random\n",
    "\n",
    "computer=random.randint(1,3)\n",
    "choice=int(input(\"선택하시오(1:가위 2:바위 3:보)\"))\n",
    "print('컴퓨터의 선택(1:가위 2:바위 3:보)'),computer\n",
    "\n",
    "if choice == 1:\n",
    "    if computer == 1:\n",
    "        print(\"비김\")\n",
    "    elif computer == 2:\n",
    "        print(\"짐\")\n",
    "    elif computer == 3:\n",
    "        print(\"이김\")\n",
    "elif choice == 2:\n",
    "    if computer == 1:\n",
    "        print(\"이김\")\n",
    "    elif computer == 2:\n",
    "        print(\"비김\")\n",
    "    elif computer == 3:\n",
    "        print(\"짐\")\n",
    "elif choice == 3:\n",
    "    if computer == 1:\n",
    "        print(\"짐\")\n",
    "    elif computer == 2:\n",
    "        print(\"이김\")\n",
    "    elif computer == 3:\n",
    "        print(\"비김\")\n",
    "\n"
   ]
  },
  {
   "cell_type": "code",
   "execution_count": 4,
   "id": "96cc09e9",
   "metadata": {},
   "outputs": [
    {
     "name": "stdout",
     "output_type": "stream",
     "text": [
      "입장ㄴ\n"
     ]
    }
   ],
   "source": [
    "h = int(input(\"키\"))\n",
    "a = int(input(\"무게\"))\n",
    "\n",
    "if h < 140 and a < 40:\n",
    "    print(\"입장ㄴ\")\n",
    "else:\n",
    "    print(\"입장ㅇ\")\n",
    "    \n"
   ]
  },
  {
   "cell_type": "code",
   "execution_count": 15,
   "id": "dd6c9456",
   "metadata": {},
   "outputs": [],
   "source": [
    "#2-8 사용자로부터 키를 입력받고 표준 체중을 계산 if else 를 사용하여 저체중,표준,과체중을 출력, 표준체중 =(키 -100) * 0.9\n",
    "h = int(input(\"키:\"))\n",
    "aw = (h - 100) * 0.9\n",
    "if aw < 18.5:\n",
    "    print(\"메르치\")\n",
    "elif aw >= 18.5 and aw < 23:\n",
    "    print(\"고등어\")\n",
    "elif aw >= 23 and aw < 25:\n",
    "    print(\"참치\")"
   ]
  },
  {
   "cell_type": "code",
   "execution_count": 25,
   "id": "4d425d4a",
   "metadata": {},
   "outputs": [
    {
     "name": "stdout",
     "output_type": "stream",
     "text": [
      "정답\n"
     ]
    }
   ],
   "source": [
    "#오판 프로그램\n",
    "import random\n",
    "num1 = random.randint(0,10)\n",
    "num2= random.randint(0,10)\n",
    "cal=random.randint(1,4)\n",
    "\n",
    "if cal==1:\n",
    "    answer=num1+num2\n",
    "    reply=int(input('{0}+{1}의 값은?'.format(num1,num2)))\n",
    "    if answer==reply:\n",
    "        print(\"정답\")\n",
    "    else:\n",
    "        print(\"오답\")\n",
    "elif cal==2:\n",
    "    answer=num1-num2\n",
    "    reply=int(input('{0}-{1}의 값은?'.format(num1,num2)))\n",
    "    if answer==reply:\n",
    "        print(\"정답\")\n",
    "    else:\n",
    "        print(\"오답\")\n",
    "elif cal==3:\n",
    "    answer=num1*num2\n",
    "    reply=int(input('{0}*{1}의 값은?'.format(num1,num2)))\n",
    "    if answer==reply:\n",
    "        print(\"정답\")\n",
    "    else:\n",
    "        print(\"오답\")\n",
    "elif cal == 4:\n",
    "    while num2 == 0:\n",
    "        num2 = random.randint(1, 10)\n",
    "    answer = round(num1 / num2, 2)\n",
    "    reply = float(input(f'{num1} / {num2}의 값은? (소수 둘째자리까지) '))\n",
    "    if abs(answer - reply) < 0.01:\n",
    "        print(\"정답\")\n",
    "    else:\n",
    "        print(\"오답\")"
   ]
  },
  {
   "cell_type": "code",
   "execution_count": null,
   "id": "b7a5e61a",
   "metadata": {},
   "outputs": [
    {
     "name": "stdout",
     "output_type": "stream",
     "text": [
      "1 번째 줄입니다\n",
      "2 번째 줄입니다\n",
      "3 번째 줄입니다\n",
      "4 번째 줄입니다\n",
      "5 번째 줄입니다\n",
      "6 번째 줄입니다\n",
      "7 번째 줄입니다\n",
      "8 번째 줄입니다\n",
      "9 번째 줄입니다\n"
     ]
    }
   ],
   "source": [
    "#디버깅하는법 print활용\n",
    "#if문 = ture or false\n",
    "#for문 = 반복 ex))\n",
    "for x in range(1,10):\n",
    "    print(x,\"번째 줄입니다\")"
   ]
  },
  {
   "cell_type": "code",
   "execution_count": 27,
   "id": "5e6d5420",
   "metadata": {},
   "outputs": [
    {
     "name": "stdout",
     "output_type": "stream",
     "text": [
      "2 은 짝수입니다\n",
      "4 은 짝수입니다\n",
      "6 은 짝수입니다\n",
      "8 은 짝수입니다\n"
     ]
    }
   ],
   "source": [
    "for x in range(1,10):\n",
    "    if x % 2 == 0:\n",
    "        print(x, \"은 짝수입니다\")"
   ]
  },
  {
   "cell_type": "code",
   "execution_count": 32,
   "id": "89775133",
   "metadata": {},
   "outputs": [
    {
     "name": "stdout",
     "output_type": "stream",
     "text": [
      "홍길동님 안녕하세요영희님 안녕하세요길동님 안녕하세요유신님 안녕하세요"
     ]
    }
   ],
   "source": [
    "#for 문 예시\n",
    "for name in [\"홍길동\",\"영희\",\"길동\",\"유신\"]:\n",
    "    print(name,end= \"님 안녕하세요\")"
   ]
  },
  {
   "cell_type": "code",
   "execution_count": 31,
   "id": "7ca07348",
   "metadata": {},
   "outputs": [
    {
     "name": "stdout",
     "output_type": "stream",
     "text": [
      "0 1 2 3 4 5 6 7 8 9 "
     ]
    }
   ],
   "source": [
    "for x in [0,1,2,3,4,5,6,7,8,9]:\n",
    "    print(x, end=\" \")"
   ]
  },
  {
   "cell_type": "code",
   "execution_count": 35,
   "id": "c7f105e3",
   "metadata": {},
   "outputs": [
    {
     "name": "stdout",
     "output_type": "stream",
     "text": [
      "0\n",
      "1\n",
      "3\n",
      "6\n",
      "10\n",
      "15\n",
      "21\n",
      "28\n",
      "36\n",
      "45\n"
     ]
    }
   ],
   "source": [
    "sum = 0\n",
    "for x in range(0,10):\n",
    "    sum =sum + x\n",
    "    print(sum)"
   ]
  },
  {
   "cell_type": "code",
   "execution_count": 38,
   "id": "44d6f86a",
   "metadata": {},
   "outputs": [
    {
     "name": "stdout",
     "output_type": "stream",
     "text": [
      "a b c d e f "
     ]
    }
   ],
   "source": [
    "for c in \"abcdef\":\n",
    "    print(c, end=\" \")\n",
    "# 각각의 공간에 어드레스가 있어서 일자로 출력이 아닌 따로따로 출력이 된다."
   ]
  },
  {
   "cell_type": "code",
   "execution_count": 39,
   "id": "463776c2",
   "metadata": {},
   "outputs": [
    {
     "name": "stdout",
     "output_type": "stream",
     "text": [
      "0 1 2 3 4 반복 종료\n"
     ]
    }
   ],
   "source": [
    "for x in range(0,5):\n",
    "    print(x, end=\" \")\n",
    "print(\"반복 종료\")"
   ]
  },
  {
   "cell_type": "code",
   "execution_count": 40,
   "id": "9f1eb5bd",
   "metadata": {},
   "outputs": [
    {
     "name": "stdout",
     "output_type": "stream",
     "text": [
      "2\n",
      "3\n",
      "4\n"
     ]
    }
   ],
   "source": [
    "x = 2\n",
    "for y in range(3):\n",
    "    print(y+x)"
   ]
  },
  {
   "cell_type": "code",
   "execution_count": 41,
   "id": "f39715f1",
   "metadata": {},
   "outputs": [
    {
     "name": "stdout",
     "output_type": "stream",
     "text": [
      "0\n",
      "1\n",
      "2\n"
     ]
    }
   ],
   "source": [
    "for x in range(3):\n",
    "    print(x)"
   ]
  },
  {
   "cell_type": "code",
   "execution_count": 43,
   "id": "d7c2a96e",
   "metadata": {},
   "outputs": [
    {
     "name": "stdout",
     "output_type": "stream",
     "text": [
      "장미 <class 'str'>\n",
      "가시 <class 'str'>\n",
      "튤립 <class 'str'>\n",
      "None <class 'NoneType'>\n",
      "해바라기 <class 'str'>\n"
     ]
    }
   ],
   "source": [
    "for x in [\"장미\",\"가시\",\"튤립\",None,\"해바라기\"]:\n",
    "    print(x ,end=\" \")\n",
    "\n",
    "    print(type(x))"
   ]
  },
  {
   "cell_type": "code",
   "execution_count": 45,
   "id": "35359dde",
   "metadata": {},
   "outputs": [
    {
     "name": "stdout",
     "output_type": "stream",
     "text": [
      "3\n",
      "8\n",
      "13\n",
      "18\n",
      "23\n",
      "28\n",
      "33\n",
      "38\n",
      "43\n",
      "48\n",
      "53\n",
      "58\n",
      "63\n",
      "68\n",
      "73\n",
      "78\n",
      "83\n",
      "88\n",
      "93\n",
      "98\n",
      "103\n",
      "108\n"
     ]
    }
   ],
   "source": [
    "for x in range(3,110,5):\n",
    "    print(x)"
   ]
  },
  {
   "cell_type": "code",
   "execution_count": 56,
   "id": "a9a9b1ba",
   "metadata": {},
   "outputs": [
    {
     "name": "stdout",
     "output_type": "stream",
     "text": [
      "현재 확인 중인 과일: apple\n",
      "현재 확인 중인 과일: bananan\n",
      "찾는 과일 'orange'을 찾았습니다!\n",
      "탐색 완료\n"
     ]
    }
   ],
   "source": [
    "fruits = [\"apple\",\"bananan\", \"orange\",\"grape\",\"kiwi\"]\n",
    "search_fruit  = \"orange\"\n",
    "\n",
    "for fruit in fruits:\n",
    "    if fruit  == search_fruit:\n",
    "        print(f\"찾는 과일 '{search_fruit}'을 찾았습니다!\")\n",
    "        break\n",
    "    print(f\"현재 확인 중인 과일: {fruit}\")\n",
    "\n",
    "print(\"탐색 완료\")"
   ]
  },
  {
   "cell_type": "code",
   "execution_count": 61,
   "id": "df698df4",
   "metadata": {},
   "outputs": [
    {
     "name": "stdout",
     "output_type": "stream",
     "text": [
      "환영합니다\n",
      "환영합니다\n",
      "환영합니다\n",
      "환영합니다\n",
      "환영합니다\n",
      "반복 종료\n"
     ]
    }
   ],
   "source": [
    "i = 0\n",
    "while i < 5:\n",
    "    print(\"환영합니다\")\n",
    "    i = i + 1\n",
    "print(\"반복 종료\")"
   ]
  },
  {
   "cell_type": "code",
   "execution_count": 2,
   "id": "18890a79",
   "metadata": {},
   "outputs": [
    {
     "name": "stdout",
     "output_type": "stream",
     "text": [
      "종료하려면 음수값을 입력하세요.\n",
      "평균 점수는 150.0 입니다.\n"
     ]
    }
   ],
   "source": [
    "score = 0\n",
    "total_sum = 0\n",
    "c = 0\n",
    "print(\"종료하려면 음수값을 입력하세요.\")\n",
    "while score >=0: \n",
    "    score = int(input(\"점수를 입력하세요:\"))\n",
    "    if score >0:\n",
    "        total_sum += score\n",
    "        c += 1\n",
    "if c > 0:\n",
    "    average = total_sum / c\n",
    "    print(\"평균 점수는\", average, \"입니다.\")"
   ]
  },
  {
   "cell_type": "code",
   "execution_count": null,
   "id": "c7283ea9",
   "metadata": {},
   "outputs": [
    {
     "ename": "SyntaxError",
     "evalue": "Invalid star expression (2936897317.py, line 3)",
     "output_type": "error",
     "traceback": [
      "  \u001b[36mCell\u001b[39m\u001b[36m \u001b[39m\u001b[32mIn[19]\u001b[39m\u001b[32m, line 3\u001b[39m\n\u001b[31m    \u001b[39m\u001b[31mfor x in range(*,3,3):\u001b[39m\n                    ^\n\u001b[31mSyntaxError\u001b[39m\u001b[31m:\u001b[39m Invalid star expression\n"
     ]
    }
   ],
   "source": []
  },
  {
   "cell_type": "code",
   "execution_count": null,
   "id": "507c0fc3",
   "metadata": {},
   "outputs": [
    {
     "name": "stdout",
     "output_type": "stream",
     "text": [
      "\n",
      "* * * * * * * * * * * \n",
      "* * * * * * * * * * * \n",
      "* * * * * * * * * * * \n",
      "* * * * * * * * * * * \n",
      "* * * * * * * * * * * \n",
      "* * * * * * * * * * * \n",
      "* * * * * * * * * * * \n",
      "* * * * * * * * * * * \n",
      "* * * * * * * * * * * \n",
      "* * * * * * * * * * * \n",
      "* * * * * * * * * * * "
     ]
    }
   ],
   "source": [
    "x = int(input(\"정수 입력\"))\n",
    "for y in range(x):\n",
    "    print()\n",
    "    for z in range(x):\n",
    "        print(\"*\", end=\" \")\n",
    "\n",
    "#정수값을 받아 사각형 별만들기"
   ]
  },
  {
   "cell_type": "code",
   "execution_count": 55,
   "id": "79d1d217",
   "metadata": {},
   "outputs": [
    {
     "name": "stdout",
     "output_type": "stream",
     "text": [
      "모음의 개수 0\n",
      "자음의 개수 3\n"
     ]
    }
   ],
   "source": [
    "original = input(\"문자를 받으시오.\")\n",
    "word = original.lower()   # 입력 받은 문자열을 소문자로 변경한다.\n",
    "vowels = 0\n",
    "consonants = 0\n",
    "\n",
    "if len(original) > 0 and original.isalpha():\n",
    "    for char in word:\n",
    "        if char in \"aeiou\":\n",
    "          vowels = vowels + 1\n",
    "        else:\n",
    "          consonants = consonants + 1\n",
    "\n",
    "print(\"모음의 개수\", vowels)\n",
    "print(\"자음의 개수\", consonants)\n"
   ]
  },
  {
   "cell_type": "code",
   "execution_count": 59,
   "id": "6b432e37",
   "metadata": {},
   "outputs": [
    {
     "name": "stdout",
     "output_type": "stream",
     "text": [
      "모음의 개수 5\n",
      "자음의 개수 4\n"
     ]
    }
   ],
   "source": [
    "original = input(\"문자를 입력:\")\n",
    "word = original.lower()\n",
    "vowels = 0\n",
    "consonants = 0\n",
    "\n",
    "# if not original.isalpha(): # 문자열이 알파벳이라면\n",
    "for char in original:\n",
    "    if 0xAC00 <= 0xD7A3:\n",
    "        original = input(\"알파벳이 아닙니다, 다시 입력해주요:\")\n",
    "        break\n",
    "\n",
    "if len(original) > 0 and original.isalpha():\n",
    "    for char in word:\n",
    "        if char in \"aeiou\":\n",
    "            vowels = vowels + 1\n",
    "        else:\n",
    "            consonants = consonants + 1\n",
    "\n",
    "print(\"모음의 개수\", vowels)\n",
    "print(\"자음의 개수\", consonants)"
   ]
  }
 ],
 "metadata": {
  "kernelspec": {
   "display_name": "Python 3",
   "language": "python",
   "name": "python3"
  },
  "language_info": {
   "codemirror_mode": {
    "name": "ipython",
    "version": 3
   },
   "file_extension": ".py",
   "mimetype": "text/x-python",
   "name": "python",
   "nbconvert_exporter": "python",
   "pygments_lexer": "ipython3",
   "version": "3.13.5"
  }
 },
 "nbformat": 4,
 "nbformat_minor": 5
}
