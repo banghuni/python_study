{
 "cells": [
  {
   "cell_type": "code",
   "execution_count": 8,
   "id": "291d3e69",
   "metadata": {},
   "outputs": [
    {
     "name": "stdout",
     "output_type": "stream",
     "text": [
      "unknown shape\n"
     ]
    }
   ],
   "source": [
    "a = (input(\"문자를 입력하십시오\"))\n",
    "\n",
    "if a == 'r' or a == 'R':\n",
    "    print(\"rectangle\")\n",
    "elif a == 'c' or a == 'c':\n",
    "    print(\"circle\")\n",
    "elif a == 't' or a == 't':\n",
    "    print(\"triangle\")\n",
    "else:\n",
    "    print(\"unknown shape\")"
   ]
  },
  {
   "cell_type": "code",
   "execution_count": 24,
   "id": "aaa788d2",
   "metadata": {},
   "outputs": [
    {
     "name": "stdout",
     "output_type": "stream",
     "text": [
      "원의 넓이는78.53981633974483입니다\n"
     ]
    }
   ],
   "source": [
    "#예제 2-4번 원의 넓이를 구하는 프로그램을 만들고 사용자가 입력한 원의 반지름으로 계산해서 출력음수 입력의 경우 \"잘못된 값입니다\"\n",
    "#파이썬에서 원의 넓이를 구하는 공식은 다음과 같습니다.\n",
    "# 원의 넓이 = math.pi * (반지름 ** 2)\n",
    "import math\n",
    "radius = float(input(\"원의 반지름을 입력하십시오:\"))\n",
    "if radius < 0:\n",
    "    print(\"잘못된 값입니다\")\n",
    "else:\n",
    "    area = math.pi * (radius ** 2)\n",
    "    print(f\"원의 넓이는{area}입니다\")"
   ]
  },
  {
   "cell_type": "code",
   "execution_count": 83,
   "id": "f966647e",
   "metadata": {},
   "outputs": [
    {
     "name": "stdout",
     "output_type": "stream",
     "text": [
      "가장 작은 값은 1입니다\n"
     ]
    }
   ],
   "source": [
    "# 사용자로부터 3개의 정수를 입력받고 if-else문을 사용하여 가장 작은 값을 출력\n",
    "a = int(input(\"첫 번째 정수를 입력하십시오\"))\n",
    "b = int(input(\"두 번째 정수를 입력하십시오\"))\n",
    "c = int(input(\"세 번째 정수를 입력하십시오\"))\n",
    "if a < b and a < c:\n",
    "    print(f\"가장 작은 값은 {a}입니다\")\n",
    "if b < a and b < c:\n",
    "    print(f\"가장 작은 값은 {b}입니다\")\n",
    "if c < a and c < b:\n",
    "    print(f\"가장 작은 값은 {c}입니다\")"
   ]
  },
  {
   "cell_type": "code",
   "execution_count": 90,
   "id": "2c765511",
   "metadata": {},
   "outputs": [
    {
     "name": "stdout",
     "output_type": "stream",
     "text": [
      "컴퓨터의 선택(1:가위 2:바위 3:보)\n",
      "이김\n"
     ]
    }
   ],
   "source": [
    "#예제 2-6 컴퓨터 가위 바위 보 게임을 하는 프로그램 컴퓨터는 사용자에게 알리지 않고 가위,바위,보 중에서 임의로 하나를 선택. 사용자는 입력 메시지에 따라서 3개중 하나를 선택. \"이겻음\",\"비겼음\",\"졌음\" 을 축력(if-else와 random.randiant를 사용)\n",
    "import random\n",
    "\n",
    "computer=random.randint(1,3)\n",
    "choice=int(input(\"선택하시오(1:가위 2:바위 3:보)\"))\n",
    "print('컴퓨터의 선택(1:가위 2:바위 3:보)'),computer\n",
    "\n",
    "if choice == 1:\n",
    "    if computer == 1:\n",
    "        print(\"비김\")\n",
    "    elif computer == 2:\n",
    "        print(\"짐\")\n",
    "    elif computer == 3:\n",
    "        print(\"이김\")\n",
    "elif choice == 2:\n",
    "    if computer == 1:\n",
    "        print(\"이김\")\n",
    "    elif computer == 2:\n",
    "        print(\"비김\")\n",
    "    elif computer == 3:\n",
    "        print(\"짐\")\n",
    "elif choice == 3:\n",
    "    if computer == 1:\n",
    "        print(\"짐\")\n",
    "    elif computer == 2:\n",
    "        print(\"이김\")\n",
    "    elif computer == 3:\n",
    "        print(\"비김\")\n",
    "\n"
   ]
  },
  {
   "cell_type": "code",
   "execution_count": 4,
   "id": "96cc09e9",
   "metadata": {},
   "outputs": [
    {
     "name": "stdout",
     "output_type": "stream",
     "text": [
      "입장ㄴ\n"
     ]
    }
   ],
   "source": [
    "h = int(input(\"키\"))\n",
    "a = int(input(\"무게\"))\n",
    "\n",
    "if h < 140 and a < 40:\n",
    "    print(\"입장ㄴ\")\n",
    "else:\n",
    "    print(\"입장ㅇ\")\n",
    "    \n"
   ]
  },
  {
   "cell_type": "code",
   "execution_count": 15,
   "id": "dd6c9456",
   "metadata": {},
   "outputs": [],
   "source": [
    "#2-8 사용자로부터 키를 입력받고 표준 체중을 계산 if else 를 사용하여 저체중,표준,과체중을 출력, 표준체중 =(키 -100) * 0.9\n",
    "h = int(input(\"키:\"))\n",
    "aw = (h - 100) * 0.9\n",
    "if aw < 18.5:\n",
    "    print(\"메르치\")\n",
    "elif aw >= 18.5 and aw < 23:\n",
    "    print(\"고등어\")\n",
    "elif aw >= 23 and aw < 25:\n",
    "    print(\"참치\")"
   ]
  },
  {
   "cell_type": "code",
   "execution_count": 21,
   "id": "4d425d4a",
   "metadata": {},
   "outputs": [
    {
     "name": "stdout",
     "output_type": "stream",
     "text": [
      "정답\n"
     ]
    }
   ],
   "source": [
    "#오판 프로그램\n",
    "import random\n",
    "num1 = random.randint(0,10)\n",
    "num2= random.randint(0,10)\n",
    "cal=random.randint(1,4)\n",
    "\n",
    "if cal==1:\n",
    "    answer=num1+num2\n",
    "    reply=int(input('{0}+{1}의 값은?'.format(num1,num2)))\n",
    "    if answer==reply:\n",
    "        print(\"정답\")\n",
    "    else:\n",
    "        print(\"오답\")\n",
    "elif cal==2:\n",
    "    answer=num1-num2\n",
    "    reply=int(input('{0}-{1}의 값은?'.format(num1,num2)))\n",
    "    if answer==reply:\n",
    "        print(\"정답\")\n",
    "    else:\n",
    "        print(\"오답\")\n",
    "elif cal==3:\n",
    "    answer=num1*num2\n",
    "    reply=int(input('{0}*{1}의 값은?'.format(num1,num2)))\n",
    "    if answer==reply:\n",
    "        print(\"정답\")\n",
    "    else:\n",
    "        print(\"오답\")\n",
    "elif cal == 4:\n",
    "    while num2 == 0:\n",
    "        num2 = random.randint(1, 10)\n",
    "    answer = round(num1 / num2, 2)\n",
    "    reply = float(input(f'{num1} / {num2}의 값은? (소수 둘째자리까지) '))\n",
    "    if abs(answer - reply) < 0.01:\n",
    "        print(\"정답\")\n",
    "    else:\n",
    "        print(\"오답\")"
   ]
  }
 ],
 "metadata": {
  "kernelspec": {
   "display_name": "Python 3",
   "language": "python",
   "name": "python3"
  },
  "language_info": {
   "codemirror_mode": {
    "name": "ipython",
    "version": 3
   },
   "file_extension": ".py",
   "mimetype": "text/x-python",
   "name": "python",
   "nbconvert_exporter": "python",
   "pygments_lexer": "ipython3",
   "version": "3.13.5"
  }
 },
 "nbformat": 4,
 "nbformat_minor": 5
}
