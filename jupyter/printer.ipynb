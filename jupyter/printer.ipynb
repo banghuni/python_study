{
 "cells": [
  {
   "cell_type": "code",
   "execution_count": null,
   "id": "d0f99b2d",
   "metadata": {},
   "outputs": [],
   "source": [
    "print(\"안녕하세요\")"
   ]
  }
 ],
 "metadata": {
  "kernelspec": {
   "display_name": ".venv",
   "language": "python",
   "name": "python3"
  },
  "language_info": {
   "name": "python",
   "version": "3.9.13"
  }
 },
 "nbformat": 4,
 "nbformat_minor": 5
}
