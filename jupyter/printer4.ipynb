{
 "cells": [
  {
   "cell_type": "code",
   "execution_count": 11,
   "id": "b143013e",
   "metadata": {},
   "outputs": [
    {
     "name": "stdout",
     "output_type": "stream",
     "text": [
      "\n",
      "오늘의 퀴즈: 닥터 ____\n",
      "정답이 담긴 QR코드가 answer_qr.png로 저장되었습니다.\n"
     ]
    },
    {
     "name": "stdout",
     "output_type": "stream",
     "text": [
      "\n",
      "오늘의 퀴즈: 블랙 ____\n",
      "정답이 담긴 QR코드가 answer_qr.png로 저장되었습니다.\n",
      "\n",
      "오늘의 퀴즈: 닥터 ____\n",
      "정답이 담긴 QR코드가 answer_qr.png로 저장되었습니다.\n",
      "\n",
      "오늘의 퀴즈: 캡틴 ____\n",
      "정답이 담긴 QR코드가 answer_qr.png로 저장되었습니다.\n",
      "\n",
      "오늘의 퀴즈: 앤트 ____\n",
      "정답이 담긴 QR코드가 answer_qr.png로 저장되었습니다.\n",
      "\n",
      "오늘의 퀴즈: 스파이더 ____\n",
      "정답이 담긴 QR코드가 answer_qr.png로 저장되었습니다.\n",
      "\n",
      "오늘의 퀴즈: 토 ____\n",
      "정답이 담긴 QR코드가 answer_qr.png로 저장되었습니다.\n",
      "\n",
      "오늘의 퀴즈: 앤트 ____\n",
      "정답이 담긴 QR코드가 answer_qr.png로 저장되었습니다.\n",
      "\n",
      "오늘의 퀴즈: 스칼렛 ____\n",
      "정답이 담긴 QR코드가 answer_qr.png로 저장되었습니다.\n",
      "프로그램을 종료합니다.\n"
     ]
    }
   ],
   "source": [
    "import qrcode\n",
    "import random\n",
    "marvel = [\n",
    "    (\"아이\",\"언맨\"),\n",
    "    (\"캡틴\",\"아메리카\"),\n",
    "    (\"토\",\"르\"),\n",
    "    (\"스파이더\",\"맨\"),\n",
    "    (\"블랙\",\"위도우\"),\n",
    "    (\"헐\",\"크\"),\n",
    "    (\"닥터\",\"스트레인지\"),\n",
    "    (\"블랙\",\"팬서\"),\n",
    "    (\"스칼렛\",\"위치\"),\n",
    "    (\"앤트\",\"맨\")\n",
    "]\n",
    "while True:\n",
    "    mark1, mark2 = random.choice(marvel)\n",
    "    print(f\"\\n오늘의 퀴즈: {mark1} ____\")\n",
    "\n",
    "    img = qrcode.make(mark2)\n",
    "    img.save(\"answer_qr.png\")\n",
    "    print(\"정답이 담긴 QR코드가 answer_qr.png로 저장되었습니다.\")\n",
    "\n",
    "    cont = input(\"계속할까요? (y/n): \").strip().lower()\n",
    "    if cont != \"y\":\n",
    "        print(\"프로그램을 종료합니다.\")\n",
    "        break\n",
    "\n"
   ]
  }
 ],
 "metadata": {
  "kernelspec": {
   "display_name": "Python 3",
   "language": "python",
   "name": "python3"
  },
  "language_info": {
   "codemirror_mode": {
    "name": "ipython",
    "version": 3
   },
   "file_extension": ".py",
   "mimetype": "text/x-python",
   "name": "python",
   "nbconvert_exporter": "python",
   "pygments_lexer": "ipython3",
   "version": "3.13.5"
  }
 },
 "nbformat": 4,
 "nbformat_minor": 5
}
