{
 "cells": [
  {
   "cell_type": "code",
   "execution_count": 3,
   "id": "55070206",
   "metadata": {},
   "outputs": [
    {
     "name": "stdout",
     "output_type": "stream",
     "text": [
      "^C\n"
     ]
    },
    {
     "name": "stdout",
     "output_type": "stream",
     "text": [
      "Requirement already satisfied: pyautogui in c:\\users\\장병훈\\appdata\\local\\programs\\python\\python313\\lib\\site-packages (0.9.54)\n",
      "Requirement already satisfied: pymsgbox in c:\\users\\장병훈\\appdata\\local\\programs\\python\\python313\\lib\\site-packages (from pyautogui) (1.0.9)\n",
      "Requirement already satisfied: pytweening>=1.0.4 in c:\\users\\장병훈\\appdata\\local\\programs\\python\\python313\\lib\\site-packages (from pyautogui) (1.2.0)\n",
      "Requirement already satisfied: pyscreeze>=0.1.21 in c:\\users\\장병훈\\appdata\\local\\programs\\python\\python313\\lib\\site-packages (from pyautogui) (1.0.1)\n",
      "Requirement already satisfied: pygetwindow>=0.0.5 in c:\\users\\장병훈\\appdata\\local\\programs\\python\\python313\\lib\\site-packages (from pyautogui) (0.0.9)\n",
      "Requirement already satisfied: mouseinfo in c:\\users\\장병훈\\appdata\\local\\programs\\python\\python313\\lib\\site-packages (from pyautogui) (0.1.3)\n",
      "Requirement already satisfied: pyrect in c:\\users\\장병훈\\appdata\\local\\programs\\python\\python313\\lib\\site-packages (from pygetwindow>=0.0.5->pyautogui) (0.2.0)\n",
      "Requirement already satisfied: pyperclip in c:\\users\\장병훈\\appdata\\local\\programs\\python\\python313\\lib\\site-packages (from mouseinfo->pyautogui) (1.9.0)\n"
     ]
    }
   ],
   "source": [
    "!pip install pyautogui"
   ]
  },
  {
   "cell_type": "markdown",
   "id": "417d24c5",
   "metadata": {},
   "source": []
  },
  {
   "cell_type": "code",
   "execution_count": null,
   "id": "4685f4da",
   "metadata": {},
   "outputs": [
    {
     "name": "stdout",
     "output_type": "stream",
     "text": [
      "Point(x=908, y=787)\n"
     ]
    }
   ],
   "source": [
    "import pyautogui as pag\n",
    "import time\n",
    "\n",
    "time.sleep(2)\n",
    "print(pag.position())\n",
    "#pag.moveTo(20,400, duration=2)\n",
    "#pag.click()"
   ]
  },
  {
   "cell_type": "code",
   "execution_count": 12,
   "id": "6e3e245d",
   "metadata": {},
   "outputs": [],
   "source": [
    "pag.moveTo(855,222, duration=2)\n",
    "pag.click()"
   ]
  },
  {
   "cell_type": "code",
   "execution_count": 20,
   "id": "ef07644e",
   "metadata": {},
   "outputs": [
    {
     "ename": "SyntaxError",
     "evalue": "expected '(' (3464664041.py, line 1)",
     "output_type": "error",
     "traceback": [
      "  \u001b[36mCell\u001b[39m\u001b[36m \u001b[39m\u001b[32mIn[20]\u001b[39m\u001b[32m, line 1\u001b[39m\n\u001b[31m    \u001b[39m\u001b[31mdef sav hello(name.msg):\u001b[39m\n            ^\n\u001b[31mSyntaxError\u001b[39m\u001b[31m:\u001b[39m expected '('\n"
     ]
    }
   ],
   "source": [
    "def sav hello(name.msg):\n",
    "        print(\"안녕\",name,\"야\".msg):"
   ]
  },
  {
   "cell_type": "code",
   "execution_count": 21,
   "id": "ee1124e3",
   "metadata": {},
   "outputs": [
    {
     "ename": "SyntaxError",
     "evalue": "expected '(' (797478588.py, line 1)",
     "output_type": "error",
     "traceback": [
      "  \u001b[36mCell\u001b[39m\u001b[36m \u001b[39m\u001b[32mIn[21]\u001b[39m\u001b[32m, line 1\u001b[39m\n\u001b[31m    \u001b[39m\u001b[31mdef get sum(start, end):\u001b[39m\n            ^\n\u001b[31mSyntaxError\u001b[39m\u001b[31m:\u001b[39m expected '('\n"
     ]
    }
   ],
   "source": [
    "def get sum(start, end):\n",
    "    sum=0\n",
    "    for i in range(start,end+1)"
   ]
  },
  {
   "cell_type": "code",
   "execution_count": 23,
   "id": "02ebc087",
   "metadata": {},
   "outputs": [],
   "source": [
    "#square(side) //정수를 제곱하는 함수\n",
    "#compute_average(list) //평균을 구하는 함수"
   ]
  },
  {
   "cell_type": "code",
   "execution_count": 26,
   "id": "95648c6d",
   "metadata": {},
   "outputs": [
    {
     "name": "stdout",
     "output_type": "stream",
     "text": [
      "10\n",
      "20\n"
     ]
    }
   ],
   "source": [
    "def get_sum(start,end):\n",
    "    sum=0\n",
    "    for i in range(start, end+1):\n",
    "        sum +=1\n",
    "    return sum\n",
    "\n",
    "print(get_sum(1,10))\n",
    "print(get_sum(1,20))\n"
   ]
  },
  {
   "cell_type": "code",
   "execution_count": 54,
   "id": "20ce561b",
   "metadata": {},
   "outputs": [
    {
     "name": "stdout",
     "output_type": "stream",
     "text": [
      "안녕 aaa bbb 4 3\n",
      "안녕 영희 3 4 철수\n",
      "안녕 aaa bbb 4 3\n",
      "안녕 aaa bbb 4 3\n"
     ]
    }
   ],
   "source": [
    "def output_hello(a,b,c,d):\n",
    "    print(\"안녕\",a,b,c,d)\n",
    "\n",
    "a=\"철수\"\n",
    "b=\"영희\"\n",
    "c=3\n",
    "d=4\n",
    "\n",
    "output_hello(a=\"aaa\",b=\"bbb\",d=3,c=4)\n",
    "output_hello(b,c,d,a)\n",
    "output_hello(a=\"aaa\",b=\"bbb\",d=3,c=4)\n",
    "output_hello(a=\"aaa\",b=\"bbb\",d=3,c=4)"
   ]
  },
  {
   "cell_type": "code",
   "execution_count": 56,
   "id": "f42826a7",
   "metadata": {},
   "outputs": [
    {
     "ename": "NameError",
     "evalue": "name 'Permi' is not defined",
     "output_type": "error",
     "traceback": [
      "\u001b[31m---------------------------------------------------------------------------\u001b[39m",
      "\u001b[31mNameError\u001b[39m                                 Traceback (most recent call last)",
      "\u001b[36mCell\u001b[39m\u001b[36m \u001b[39m\u001b[32mIn[56]\u001b[39m\u001b[32m, line 8\u001b[39m\n\u001b[32m      5\u001b[39m     circle=\u001b[32m2\u001b[39m*pi*radius\n\u001b[32m      6\u001b[39m     \u001b[38;5;28;01mreturn\u001b[39;00m Permi\n\u001b[32m----> \u001b[39m\u001b[32m8\u001b[39m \u001b[38;5;28mprint\u001b[39m(\u001b[43mget_peri\u001b[49m\u001b[43m(\u001b[49m\u001b[43mradius\u001b[49m\u001b[43m=\u001b[49m\u001b[32;43m5.0\u001b[39;49m\u001b[43m)\u001b[49m)\n",
      "\u001b[36mCell\u001b[39m\u001b[36m \u001b[39m\u001b[32mIn[56]\u001b[39m\u001b[32m, line 6\u001b[39m, in \u001b[36mget_peri\u001b[39m\u001b[34m(radius)\u001b[39m\n\u001b[32m      4\u001b[39m \u001b[38;5;28;01mdef\u001b[39;00m\u001b[38;5;250m \u001b[39m\u001b[34mget_peri\u001b[39m(radius=\u001b[32m5.0\u001b[39m):\n\u001b[32m      5\u001b[39m     circle=\u001b[32m2\u001b[39m*pi*radius\n\u001b[32m----> \u001b[39m\u001b[32m6\u001b[39m     \u001b[38;5;28;01mreturn\u001b[39;00m \u001b[43mPermi\u001b[49m\n",
      "\u001b[31mNameError\u001b[39m: name 'Permi' is not defined"
     ]
    }
   ],
   "source": [
    "#hamsu 1(ex)\n",
    "from math import pi\n",
    "\n",
    "def get_peri(radius=5.0):\n",
    "    circle=2*pi*radius\n",
    "    return Permi\n",
    "\n",
    "print(get_peri(radius=5.0))"
   ]
  },
  {
   "cell_type": "code",
   "execution_count": 34,
   "id": "34710604",
   "metadata": {},
   "outputs": [
    {
     "data": {
      "text/plain": [
       "31.400000000000002"
      ]
     },
     "execution_count": 34,
     "metadata": {},
     "output_type": "execute_result"
    }
   ],
   "source": [
    "#hamsu 1 원의둘레를 계산하는 함수 get perl(radius)를 정의하고 radius의 초기값을 5로 정의한다\n",
    "def get_perl(radius):\n",
    "    perim = 2*3.14*radius\n",
    "    return perim\n",
    "\n",
    "get_perl(5)\n",
    "    "
   ]
  },
  {
   "cell_type": "code",
   "execution_count": 44,
   "id": "67b295f5",
   "metadata": {},
   "outputs": [
    {
     "name": "stdout",
     "output_type": "stream",
     "text": [
      "합: 30\n",
      "차: -10\n",
      "곱: 200\n",
      "나눗셈: 0.5\n"
     ]
    }
   ],
   "source": [
    "#합,차,곱,나눗셈을 수행하는 함수를 가각 정의한다. 입력값 두개를 받아서 모든 함수를 한번씩 실행하고 출력\n",
    "def add(x,y):\n",
    "    return x+y\n",
    "def subtract(x,y):\n",
    "    return x-y\n",
    "def multiply(x,y):\n",
    "    return x*y\n",
    "def divide(x,y):\n",
    "    return x/y\n",
    "\n",
    "a = int(input(\"1st 입력값\"))\n",
    "b = int(input(\"2st 입력값\"))\n",
    "\n",
    "print(\"합:\",add(a,b))\n",
    "print(\"차:\",subtract(a,b))\n",
    "print(\"곱:\",multiply(a,b))\n",
    "print(\"나눗셈:\",divide(a,b))\n"
   ]
  },
  {
   "cell_type": "code",
   "execution_count": null,
   "id": "aff46a1d",
   "metadata": {},
   "outputs": [
    {
     "ename": "TypeError",
     "evalue": "calc() takes 0 positional arguments but 2 were given",
     "output_type": "error",
     "traceback": [
      "\u001b[31m---------------------------------------------------------------------------\u001b[39m",
      "\u001b[31mTypeError\u001b[39m                                 Traceback (most recent call last)",
      "\u001b[36mCell\u001b[39m\u001b[36m \u001b[39m\u001b[32mIn[57]\u001b[39m\u001b[32m, line 15\u001b[39m\n\u001b[32m     12\u001b[39m     a = \u001b[38;5;28mint\u001b[39m(\u001b[38;5;28minput\u001b[39m(\u001b[33m\"\u001b[39m\u001b[33m1st 입력값\u001b[39m\u001b[33m\"\u001b[39m))\n\u001b[32m     13\u001b[39m     b = \u001b[38;5;28mint\u001b[39m(\u001b[38;5;28minput\u001b[39m(\u001b[33m\"\u001b[39m\u001b[33m2st 입력값\u001b[39m\u001b[33m\"\u001b[39m))\n\u001b[32m---> \u001b[39m\u001b[32m15\u001b[39m \u001b[43mcalc\u001b[49m\u001b[43m(\u001b[49m\u001b[43ma\u001b[49m\u001b[43m,\u001b[49m\u001b[43mb\u001b[49m\u001b[43m)\u001b[49m\n",
      "\u001b[31mTypeError\u001b[39m: calc() takes 0 positional arguments but 2 were given"
     ]
    }
   ],
   "source": [
    "#2번에서 정의한 4개의 함수를 새로운 calc()함수에서 호출하여 두개의 입력값을 받아 동시에 수행하고 출력\n",
    "def add(x,y):\n",
    "    return x+y\n",
    "def subtract(x,y):\n",
    "    return x-y\n",
    "def multiply(x,y):\n",
    "    return x*y\n",
    "def divide(x,y):\n",
    "    return x/y\n",
    "\n",
    "def calc():\n",
    "    a = int(input(\"1st 입력값\"))\n",
    "    b = int(input(\"2st 입력값\"))\n",
    "\n",
    "print(\"합:\",add(a,b))\n",
    "print(\"차:\",subtract(a,b))\n",
    "print(\"곱\",multiply(a,b))\n",
    "print(\"나눗셈\",divide(a,b))"
   ]
  },
  {
   "cell_type": "code",
   "execution_count": 8,
   "id": "07ed005d",
   "metadata": {},
   "outputs": [
    {
     "ename": "ValueError",
     "evalue": "invalid literal for int() with base 10: ''",
     "output_type": "error",
     "traceback": [
      "\u001b[31m---------------------------------------------------------------------------\u001b[39m",
      "\u001b[31mValueError\u001b[39m                                Traceback (most recent call last)",
      "\u001b[36mCell\u001b[39m\u001b[36m \u001b[39m\u001b[32mIn[8]\u001b[39m\u001b[32m, line 13\u001b[39m\n\u001b[32m     11\u001b[39m     \u001b[38;5;28;01melse\u001b[39;00m:\n\u001b[32m     12\u001b[39m         \u001b[38;5;28mprint\u001b[39m(\u001b[33m\"\u001b[39m\u001b[33mF\u001b[39m\u001b[33m\"\u001b[39m)\n\u001b[32m---> \u001b[39m\u001b[32m13\u001b[39m score =\u001b[38;5;28;43mint\u001b[39;49m\u001b[43m(\u001b[49m\u001b[38;5;28;43minput\u001b[39;49m\u001b[43m(\u001b[49m\u001b[33;43m\"\u001b[39;49m\u001b[33;43m점수 입력\u001b[39;49m\u001b[33;43m\"\u001b[39;49m\u001b[43m)\u001b[49m\u001b[43m)\u001b[49m\n\u001b[32m     14\u001b[39m getGrade(score)\n",
      "\u001b[31mValueError\u001b[39m: invalid literal for int() with base 10: ''"
     ]
    }
   ],
   "source": [
    "#4 성적이 90점이상이면 A,80점이상이면 b,70점이상이면 c,60점 이상이면d 그오ㅔ에는 f를 반환하는 함수 getgrade(scroe)를 정의하고 입력을 받아 출력\n",
    "def getGrade(score):\n",
    "    if score >= 90:\n",
    "        print(\"A\")\n",
    "    elif score >= 80 and score <90:\n",
    "        print(\"B\")\n",
    "    elif score >= 70 and score <80:\n",
    "        print(\"C\")\n",
    "    elif score >= 60 and score <70:\n",
    "        print(\"D\")\n",
    "    else:\n",
    "        print(\"F\")\n",
    "score =int(input(\"점수 입력\"))\n",
    "getGrade(score)\n"
   ]
  },
  {
   "cell_type": "code",
   "execution_count": 65,
   "id": "24e0e6de",
   "metadata": {},
   "outputs": [
    {
     "name": "stdout",
     "output_type": "stream",
     "text": [
      "[1, 2, 3, 4, 5, 6, 7, 8, 9, 10]\n",
      "[1, 2, 3, 4, 5]\n",
      "[6, 7, 8, 9, 10]\n",
      "[1, 2, 3, 4, 5]\n",
      "10\n"
     ]
    }
   ],
   "source": [
    "score = [1,2,3,4,5,6,7,8,9,10]\n",
    "\n",
    "print(score)\n",
    "print(score[0 : 5])\n",
    "print(score[5:])\n",
    "print(score[:5])\n",
    "print(score[-1])"
   ]
  },
  {
   "cell_type": "code",
   "execution_count": 66,
   "id": "7de1aa0d",
   "metadata": {},
   "outputs": [],
   "source": [
    "score = [32,56,64,72,12,37,98,77,59,69]"
   ]
  },
  {
   "cell_type": "code",
   "execution_count": 70,
   "id": "aad4cbc9",
   "metadata": {},
   "outputs": [
    {
     "name": "stdout",
     "output_type": "stream",
     "text": [
      "[1]\n",
      "[1, 2]\n",
      "[1, 2, 3]\n",
      "[1, 2, 3, 4]\n",
      "[1, 2, 3, 4, 5]\n",
      "[1, 2, 3, 4, 5, 7]\n",
      "[1, 2, 3, 4, 5, 7, 8]\n",
      "[1, 2, 3, 4, 5, 7, 8, 9]\n",
      "[1, 2, 3, 4, 5, 7, 8, 9, 0]\n",
      "[1, 2, 3, 4, 5, 7, 8, 9, 0, 10]\n"
     ]
    }
   ],
   "source": [
    "score = []\n",
    "for i in range(10):\n",
    "    score.append(int(input(\"성적을 입력하시오\")))\n",
    "    print(score)"
   ]
  },
  {
   "cell_type": "code",
   "execution_count": 72,
   "id": "b5b920b9",
   "metadata": {},
   "outputs": [
    {
     "ename": "NameError",
     "evalue": "name 'number' is not defined",
     "output_type": "error",
     "traceback": [
      "\u001b[31m---------------------------------------------------------------------------\u001b[39m",
      "\u001b[31mNameError\u001b[39m                                 Traceback (most recent call last)",
      "\u001b[36mCell\u001b[39m\u001b[36m \u001b[39m\u001b[32mIn[72]\u001b[39m\u001b[32m, line 3\u001b[39m\n\u001b[32m      1\u001b[39m \u001b[38;5;66;03m#리스트 요소 접근하기\u001b[39;00m\n\u001b[32m      2\u001b[39m \u001b[38;5;28;01mif\u001b[39;00m i >= \u001b[32m0\u001b[39m \u001b[38;5;129;01mand\u001b[39;00m i <\u001b[38;5;28mlen\u001b[39m(score):\n\u001b[32m----> \u001b[39m\u001b[32m3\u001b[39m     score[i] = \u001b[43mnumber\u001b[49m\n",
      "\u001b[31mNameError\u001b[39m: name 'number' is not defined"
     ]
    }
   ],
   "source": [
    "#리스트 요소 접근하기\n",
    "if i >= 0 and i <len(score):\n",
    "    score[i] = number"
   ]
  },
  {
   "cell_type": "code",
   "execution_count": 79,
   "id": "b8bf7410",
   "metadata": {},
   "outputs": [
    {
     "name": "stdout",
     "output_type": "stream",
     "text": [
      "[]\n",
      "['H', 'E', 'L', 'L', 'O']\n",
      "[0, 1, 2, 3, 4]\n"
     ]
    }
   ],
   "source": [
    "list1 = list()\n",
    "list2 = list(\"HELLO\")\n",
    "list3 = list(range(0,5))\n",
    "\n",
    "print(list1)\n",
    "print(list2)\n",
    "print(list3)"
   ]
  },
  {
   "cell_type": "code",
   "execution_count": 81,
   "id": "2696e6e4",
   "metadata": {},
   "outputs": [
    {
     "data": {
      "text/plain": [
       "[0, 1, 2, 3, 4]"
      ]
     },
     "execution_count": 81,
     "metadata": {},
     "output_type": "execute_result"
    }
   ],
   "source": [
    "list1\n",
    "list2\n",
    "list3"
   ]
  },
  {
   "cell_type": "code",
   "execution_count": 86,
   "id": "c9e2dfd7",
   "metadata": {},
   "outputs": [
    {
     "name": "stdout",
     "output_type": "stream",
     "text": [
      "[10, 20, 30, 40, 50]\n",
      "[10, 20, 99, 40, 50]\n"
     ]
    }
   ],
   "source": [
    "scores = [10,20,30,40,50]\n",
    "values = scores[:]\n",
    "#values = scores\n",
    "values[2] = 99\n",
    "print(scores)\n",
    "print(values)"
   ]
  },
  {
   "cell_type": "code",
   "execution_count": 16,
   "id": "4ed04a78",
   "metadata": {},
   "outputs": [
    {
     "ename": "SyntaxError",
     "evalue": "invalid syntax (2648277050.py, line 3)",
     "output_type": "error",
     "traceback": [
      "  \u001b[36mCell\u001b[39m\u001b[36m \u001b[39m\u001b[32mIn[16]\u001b[39m\u001b[32m, line 3\u001b[39m\n\u001b[31m    \u001b[39m\u001b[31mif\u001b[39m\n       ^\n\u001b[31mSyntaxError\u001b[39m\u001b[31m:\u001b[39m invalid syntax\n"
     ]
    }
   ],
   "source": [
    "#함수 5번 패스워드를 검증하는 함수 checkPass를 정의 패스워드는 적어도 8글자 이상이고 적어도 1글자의대문자와 소문자,숫자가 들어가야하고 알파벳으로 한정한다.\n",
    "def checkpass(p):\n",
    "     if \n",
    "\n",
    "\n"
   ]
  },
  {
   "cell_type": "code",
   "execution_count": null,
   "id": "23808c21",
   "metadata": {},
   "outputs": [],
   "source": [
    "#사용자로부터 2개의 정수를 받아서 수학 묹를 만들어서 출력하는 함수를 정의\n",
    "#필요한것 2개의 함수 수학문제를 만듦 함수 정의\n",
    "import random\n",
    "#수학 문제를 만드는 함수\n",
    "def make_math_problem(a,b):\n",
    "    operators = ['+','-','*','/']\n",
    "    op = random.chioce(operators)\n",
    "\n",
    "    if op == '/':\n",
    "        if b == 0:\n",
    "            b = 1\n",
    "        result = round(a/b,2)\n",
    "        problem = f\"{a}/{b}=?\"\n",
    "    elif op == '+':\n",
    "        result = a + b\n",
    "        problem = f\"{a}+{b}=?\"\n",
    "    elif op == '-':\n",
    "        result = a - b\n",
    "        problem = f\"{a}-{b}=?\"\n",
    "    elif op == '*':\n",
    "        result = a * b\n",
    "        problem = f\"{a}*{b}=?\"\n",
    "    return problem, result\n",
    "\n",
    "def run_math_quiz():"
   ]
  },
  {
   "cell_type": "code",
   "execution_count": null,
   "id": "03dfdb73",
   "metadata": {},
   "outputs": [],
   "source": []
  }
 ],
 "metadata": {
  "kernelspec": {
   "display_name": "Python 3",
   "language": "python",
   "name": "python3"
  },
  "language_info": {
   "codemirror_mode": {
    "name": "ipython",
    "version": 3
   },
   "file_extension": ".py",
   "mimetype": "text/x-python",
   "name": "python",
   "nbconvert_exporter": "python",
   "pygments_lexer": "ipython3",
   "version": "3.13.5"
  }
 },
 "nbformat": 4,
 "nbformat_minor": 5
}
