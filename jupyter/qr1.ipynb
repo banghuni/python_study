{
 "cells": [
  {
   "cell_type": "code",
   "execution_count": 6,
   "id": "07a2916c",
   "metadata": {},
   "outputs": [
    {
     "name": "stdout",
     "output_type": "stream",
     "text": [
      "\n",
      "오늘의 퀴즈: [('닥터', '스트레인지'), ('토', '르'), ('아이', '언맨'), ('블랙', '위도우'), ('블랙', '팬서'), ('헐', '크'), ('캡틴', '아메리카'), ('스칼렛', '위치'), ('스파이더', '맨'), ('앤트', '맨')] ____\n",
      "정답이 담긴 QR코드가 answer_qr.png로 저장되었습니다.\n"
     ]
    },
    {
     "name": "stdout",
     "output_type": "stream",
     "text": [
      "\n",
      "오늘의 퀴즈: [('닥터', '스트레인지'), ('토', '르'), ('아이', '언맨'), ('블랙', '위도우'), ('블랙', '팬서'), ('헐', '크'), ('캡틴', '아메리카'), ('스칼렛', '위치'), ('스파이더', '맨'), ('앤트', '맨')] ____\n",
      "정답이 담긴 QR코드가 answer_qr.png로 저장되었습니다.\n",
      "\n",
      "오늘의 퀴즈: [('닥터', '스트레인지'), ('토', '르'), ('아이', '언맨'), ('블랙', '위도우'), ('블랙', '팬서'), ('헐', '크'), ('캡틴', '아메리카'), ('스칼렛', '위치'), ('스파이더', '맨'), ('앤트', '맨')] ____\n",
      "정답이 담긴 QR코드가 answer_qr.png로 저장되었습니다.\n",
      "\n",
      "오늘의 퀴즈: [('닥터', '스트레인지'), ('토', '르'), ('아이', '언맨'), ('블랙', '위도우'), ('블랙', '팬서'), ('헐', '크'), ('캡틴', '아메리카'), ('스칼렛', '위치'), ('스파이더', '맨'), ('앤트', '맨')] ____\n",
      "정답이 담긴 QR코드가 answer_qr.png로 저장되었습니다.\n",
      "\n",
      "오늘의 퀴즈: [('닥터', '스트레인지'), ('토', '르'), ('아이', '언맨'), ('블랙', '위도우'), ('블랙', '팬서'), ('헐', '크'), ('캡틴', '아메리카'), ('스칼렛', '위치'), ('스파이더', '맨'), ('앤트', '맨')] ____\n",
      "정답이 담긴 QR코드가 answer_qr.png로 저장되었습니다.\n",
      "\n",
      "오늘의 퀴즈: [('닥터', '스트레인지'), ('토', '르'), ('아이', '언맨'), ('블랙', '위도우'), ('블랙', '팬서'), ('헐', '크'), ('캡틴', '아메리카'), ('스칼렛', '위치'), ('스파이더', '맨'), ('앤트', '맨')] ____\n",
      "정답이 담긴 QR코드가 answer_qr.png로 저장되었습니다.\n",
      "\n",
      "오늘의 퀴즈: [('닥터', '스트레인지'), ('토', '르'), ('아이', '언맨'), ('블랙', '위도우'), ('블랙', '팬서'), ('헐', '크'), ('캡틴', '아메리카'), ('스칼렛', '위치'), ('스파이더', '맨'), ('앤트', '맨')] ____\n",
      "정답이 담긴 QR코드가 answer_qr.png로 저장되었습니다.\n",
      "프로그램을 종료합니다.\n"
     ]
    }
   ],
   "source": [
    "import qrcode\n",
    "import random\n",
    "marvel = [\n",
    "    (\"아이\",\"언맨\"),\n",
    "    (\"캡틴\",\"아메리카\"),\n",
    "    (\"토\",\"르\"),\n",
    "    (\"스파이더\",\"맨\"),\n",
    "    (\"블랙\",\"위도우\"),\n",
    "    (\"헐\",\"크\"),\n",
    "    (\"닥터\",\"스트레인지\"),\n",
    "    (\"블랙\",\"팬서\"),\n",
    "    (\"스칼렛\",\"위치\"),\n",
    "    (\"앤트\",\"맨\")\n",
    "]\n",
    "questions = random.sample(marvel,len(marvel))\n",
    "\n",
    "for mark1, mark2 in questions:\n",
    "    print(f\"\\n오늘의 퀴즈: {questions} ____\")\n",
    "    img = qrcode.make()\n",
    "    img.save(\"answer_qr.png\")\n",
    "    print(\"정답이 담긴 QR코드가 answer_qr.png로 저장되었습니다.\")\n",
    "\n",
    "    cont = input(\"계속할까요? (y/n): \").strip().lower()\n",
    "    if cont != \"y\":\n",
    "        print(\"프로그램을 종료합니다.\")\n",
    "        break\n",
    "else:\n",
    "    print(\"\\n모든 문제를 다품 ㅅㄱ\")"
   ]
  },
  {
   "cell_type": "code",
   "execution_count": null,
   "id": "f9153bea",
   "metadata": {},
   "outputs": [],
   "source": [
    "#랜덤으로 주어지는 한글 단어를 2초 안에 입력\n",
    "#2초안에 입력하면 점수가 가산되고, 2초가 넘으면 생명이 감소\n",
    "#생명이 없으면 게임 종료"
   ]
  },
  {
   "cell_type": "code",
   "execution_count": 26,
   "id": "05fb30e6",
   "metadata": {},
   "outputs": [
    {
     "name": "stdout",
     "output_type": "stream",
     "text": [
      "charcter: 아이언맨\n",
      "입력 시간: 1.90초\n",
      "정답ㅊㅊ\n",
      "Good boy\n"
     ]
    }
   ],
   "source": [
    "import random\n",
    "import time\n",
    "\n",
    "words = ['토르','헐크','아이언맨','스파이더맨','블랙팬서','퀵실버','블랙위도우','호크아이','캡틴아메리카','팔콘','버키','닥터스트레인지','베놈','스타로드','그루트','멘티스','너구리','가모라','욘두','퀼']\n",
    "word = random.choice(words)\n",
    "print(\"charcter:\",word)\n",
    "start_time = time.time()\n",
    "user_input = input(\"입력\")\n",
    "end_time = time.time()\n",
    "elapsed_time = end_time - start_time\n",
    "print(\"입력 시간: {:.2f}초\".format(elapsed_time))\n",
    "if user_input == word:\n",
    "    print(\"정답ㅊㅊ\")\n",
    "else:\n",
    "    print(\"오답ㅉㅉ\")\n",
    "if elapsed_time <=2:\n",
    "    print(\"Good boy\")\n",
    "else:\n",
    "    print(\"타임오버\")"
   ]
  },
  {
   "cell_type": "code",
   "execution_count": 48,
   "id": "4a36974d",
   "metadata": {},
   "outputs": [
    {
     "name": "stdout",
     "output_type": "stream",
     "text": [
      "2168210185344\n",
      "2168204242688\n"
     ]
    }
   ],
   "source": [
    "my_list = [1,2,3,4,5,]\n",
    "a = my_list[:]\n",
    "id(my_list)\n",
    "print(id(my_list))\n",
    "print(id(a))"
   ]
  },
  {
   "cell_type": "code",
   "execution_count": 49,
   "id": "134dfaba",
   "metadata": {},
   "outputs": [
    {
     "ename": "NameError",
     "evalue": "name 'ABC' is not defined",
     "output_type": "error",
     "traceback": [
      "\u001b[31m---------------------------------------------------------------------------\u001b[39m",
      "\u001b[31mNameError\u001b[39m                                 Traceback (most recent call last)",
      "\u001b[36mCell\u001b[39m\u001b[36m \u001b[39m\u001b[32mIn[49]\u001b[39m\u001b[32m, line 1\u001b[39m\n\u001b[32m----> \u001b[39m\u001b[32m1\u001b[39m my_list = [[\u001b[43mABC\u001b[49m,CDE],[나는,바보]]\n",
      "\u001b[31mNameError\u001b[39m: name 'ABC' is not defined"
     ]
    }
   ],
   "source": [
    "my_list = [[ABC,CDE],[나는,바보]]"
   ]
  }
 ],
 "metadata": {
  "kernelspec": {
   "display_name": "Python 3",
   "language": "python",
   "name": "python3"
  },
  "language_info": {
   "codemirror_mode": {
    "name": "ipython",
    "version": 3
   },
   "file_extension": ".py",
   "mimetype": "text/x-python",
   "name": "python",
   "nbconvert_exporter": "python",
   "pygments_lexer": "ipython3",
   "version": "3.13.5"
  }
 },
 "nbformat": 4,
 "nbformat_minor": 5
}
